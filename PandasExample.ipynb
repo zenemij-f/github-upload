{
 "cells": [
  {
   "cell_type": "markdown",
   "metadata": {},
   "source": [
    "# Example of using Pandas on a Real Data Set\n",
    "\n",
    "We will investigate the number of fire related incidents in Toronto as a function of time  using Toronto's Open Data (see https://open.toronto.ca/dataset/fire-incidents/)"
   ]
  },
  {
   "cell_type": "code",
   "execution_count": 1,
   "metadata": {},
   "outputs": [],
   "source": [
    "import numpy as np\n",
    "import matplotlib.pyplot as plt\n",
    "import pandas as pd"
   ]
  },
  {
   "cell_type": "markdown",
   "metadata": {},
   "source": [
    "# Read Toronto open data on Fire Incidents"
   ]
  },
  {
   "cell_type": "code",
   "execution_count": 3,
   "metadata": {},
   "outputs": [],
   "source": [
    "URL = \"https://ckan0.cf.opendata.inter.prod-toronto.ca/download_resource/fa5c7de5-10f8-41cf-883a-9b30a67c7b56?format=csv\"\n",
    "df = pd.read_csv(URL, parse_dates=[\n",
    "        'Fire_Under_Control_Time', \n",
    "        'Last_TFS_Unit_Clear_Time', \n",
    "        'TFS_Alarm_Time', \n",
    "        'TFS_Arrival_Time'])\n",
    "# note: this forces the known columns with datetime info to be interpreted as such."
   ]
  },
  {
   "cell_type": "code",
   "execution_count": 4,
   "metadata": {},
   "outputs": [],
   "source": [
    "# Add explicit year, month and monthyear columns for later sorting\n",
    "df['Year'] = \"\"\n",
    "df['Year'] = df['TFS_Alarm_Time'].dt.year\n",
    "df['Month'] = \"\"\n",
    "df['Month'] = df['TFS_Alarm_Time'].dt.month\n",
    "df['MonthYear'] = \"\"\n",
    "df['MonthYear'] = df['TFS_Alarm_Time'].dt.year*12 + df['TFS_Alarm_Time'].dt.month - 1"
   ]
  },
  {
   "cell_type": "markdown",
   "metadata": {},
   "source": [
    "## Plot routine"
   ]
  },
  {
   "cell_type": "code",
   "execution_count": 5,
   "metadata": {},
   "outputs": [],
   "source": [
    "def makeplot(x, y, xlabel, ylabel, filename, xticks=None):\n",
    "    \"\"\"Helper function for plotting xy data\"\"\"\n",
    "    plt.figure()\n",
    "    plt.plot(x, y, 'o')\n",
    "    plt.ylim((min(-0.1,1.1*min(y)), 1.1 * max(y)))\n",
    "    plt.grid()\n",
    "    plt.xlabel(xlabel)\n",
    "    plt.ylabel(ylabel);\n",
    "    if not xticks is None:\n",
    "        plt.xticks(xticks)\n",
    "    plt.savefig(filename)"
   ]
  },
  {
   "cell_type": "code",
   "execution_count": 6,
   "metadata": {},
   "outputs": [],
   "source": [
    "# Filter out the cases with unknown causes (false alarms)\n",
    "df2 = df[df['Possible_Cause'].notnull()]"
   ]
  },
  {
   "cell_type": "markdown",
   "metadata": {},
   "source": [
    "## Main Causes of Fires"
   ]
  },
  {
   "cell_type": "code",
   "execution_count": 7,
   "metadata": {},
   "outputs": [
    {
     "name": "stdout",
     "output_type": "stream",
     "text": [
      "99 - Undetermined                                 3143\n",
      "52 - Electrical Failure                           2555\n",
      "45 - Improperly Discarded                         1811\n",
      "44 - Unattended                                   1594\n",
      "60 - Other unintentional cause, not classified    1243\n",
      "Name: Possible_Cause, dtype: int64\n"
     ]
    }
   ],
   "source": [
    "possible_causes = df2['Possible_Cause'].value_counts()\n",
    "print(possible_causes.head(5))"
   ]
  },
  {
   "cell_type": "markdown",
   "metadata": {},
   "source": [
    "## Average the number of incidents by month\n",
    "average is over all the years in the data set"
   ]
  },
  {
   "cell_type": "code",
   "execution_count": 8,
   "metadata": {},
   "outputs": [],
   "source": [
    "allyears = df2['Year'].unique()\n",
    "numyears = len(allyears)\n",
    "average_counts_per_month = df2['Month'].value_counts() / numyears\n",
    "months = average_counts_per_month.index.values\n",
    "allmonths = df2['Month'].unique();"
   ]
  },
  {
   "cell_type": "code",
   "execution_count": 9,
   "metadata": {},
   "outputs": [
    {
     "data": {
      "image/png": "[encoded data removed]",
      "text/plain": [
       "<Figure size 432x288 with 1 Axes>"
      ]
     },
     "metadata": {
      "needs_background": "light"
     },
     "output_type": "display_data"
    }
   ],
   "source": [
    "#plot it\n",
    "makeplot(\n",
    "        months,\n",
    "        average_counts_per_month,\n",
    "        'month (1=Jan, 12=Dec)',\n",
    "        'average Toronto fire incidents per month',\n",
    "        'average_counts_per_month.png',\n",
    "        xticks=allmonths)"
   ]
  },
  {
   "cell_type": "markdown",
   "metadata": {},
   "source": [
    "# Incidents as a function of time"
   ]
  },
  {
   "cell_type": "code",
   "execution_count": 10,
   "metadata": {},
   "outputs": [],
   "source": [
    "counts_by_month = df2['MonthYear'].value_counts()\n",
    "allyears = df2['Year'].unique()\n",
    "fractionalyears = counts_by_month.index.values/12"
   ]
  },
  {
   "cell_type": "code",
   "execution_count": 11,
   "metadata": {},
   "outputs": [
    {
     "data": {
      "image/png": "[encoded data removed]",
      "text/plain": [
       "<Figure size 432x288 with 1 Axes>"
      ]
     },
     "metadata": {
      "needs_background": "light"
     },
     "output_type": "display_data"
    }
   ],
   "source": [
    "makeplot(\n",
    "        fractionalyears,\n",
    "        counts_by_month,\n",
    "        'year (12 months per year)',\n",
    "        'Toronto fire incidents in month',\n",
    "        'counts_by_month.png',\n",
    "        xticks=allyears)"
   ]
  }
 ],
 "metadata": {
  "kernelspec": {
   "display_name": "Python 3",
   "language": "python",
   "name": "python3"
  },
  "language_info": {
   "codemirror_mode": {
    "name": "ipython",
    "version": 3
   },
   "file_extension": ".py",
   "mimetype": "text/x-python",
   "name": "python",
   "nbconvert_exporter": "python",
   "pygments_lexer": "ipython3",
   "version": "3.7.4"
  }
 },
 "nbformat": 4,
 "nbformat_minor": 4
}
