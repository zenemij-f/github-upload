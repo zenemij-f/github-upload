{
 "cells": [
  {
   "cell_type": "code",
   "execution_count": 20,
   "metadata": {},
   "outputs": [],
   "source": [
    "import numpy as np\n",
    "\n",
    "letters1 = (\"a\", \"b\", \"c\", \"d\", \"e\", \"f\", \"g\", \"h\") #tuple\n",
    "letters2 = [\"p\", \"q\", \"r\", \"s\", \"t\", \"u\", \"v\", \"w\"] #list\n",
    "\n",
    "l1 = np.array(letters1) #array\n",
    "\n",
    "numbers1 = (1,2,3,4,5)\n",
    "numbers2 = (6,7,8,9,10)\n",
    "\n",
    "n = np.array(numbers1)"
   ]
  },
  {
   "cell_type": "code",
   "execution_count": 22,
   "metadata": {},
   "outputs": [
    {
     "data": {
      "text/plain": [
       "(5,)"
      ]
     },
     "execution_count": 22,
     "metadata": {},
     "output_type": "execute_result"
    }
   ],
   "source": [
    "n.shape"
   ]
  },
  {
   "cell_type": "code",
   "execution_count": null,
   "metadata": {},
   "outputs": [],
   "source": []
  }
 ],
 "metadata": {
  "kernelspec": {
   "display_name": "Python 3",
   "language": "python",
   "name": "python3"
  },
  "language_info": {
   "codemirror_mode": {
    "name": "ipython",
    "version": 3
   },
   "file_extension": ".py",
   "mimetype": "text/x-python",
   "name": "python",
   "nbconvert_exporter": "python",
   "pygments_lexer": "ipython3",
   "version": "3.7.4"
  }
 },
 "nbformat": 4,
 "nbformat_minor": 4
}
